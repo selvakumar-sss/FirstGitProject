{
 "cells": [
  {
   "cell_type": "code",
   "execution_count": 1,
   "metadata": {
    "collapsed": false
   },
   "outputs": [],
   "source": [
    "df = sqlContext.read.format('com.databricks.spark.csv')\\\n",
    ".option('inferschema', 'true').load('/home/affine/Documents/Task3/task3.tsv.gz')"
   ]
  },
  {
   "cell_type": "code",
   "execution_count": 2,
   "metadata": {
    "collapsed": false
   },
   "outputs": [
    {
     "name": "stdout",
     "output_type": "stream",
     "text": [
      "root\n",
      " |-- C0: string (nullable = true)\n",
      " |-- C1: string (nullable = true)\n",
      " |-- C2: integer (nullable = true)\n",
      " |-- C3: string (nullable = true)\n",
      "\n"
     ]
    }
   ],
   "source": [
    "df.printSchema()"
   ]
  },
  {
   "cell_type": "code",
   "execution_count": 3,
   "metadata": {
    "collapsed": false,
    "scrolled": true
   },
   "outputs": [
    {
     "data": {
      "text/plain": [
       "Row(C0='selva', C1='science', C2=81, C3='15/04/1987')"
      ]
     },
     "execution_count": 3,
     "metadata": {},
     "output_type": "execute_result"
    }
   ],
   "source": [
    "df.first()"
   ]
  },
  {
   "cell_type": "code",
   "execution_count": 4,
   "metadata": {
    "collapsed": false,
    "scrolled": true
   },
   "outputs": [
    {
     "data": {
      "text/plain": [
       "[('C0', 'string'), ('C1', 'string'), ('C2', 'int'), ('C3', 'string')]"
      ]
     },
     "execution_count": 4,
     "metadata": {},
     "output_type": "execute_result"
    }
   ],
   "source": [
    "df.dtypes"
   ]
  },
  {
   "cell_type": "code",
   "execution_count": 5,
   "metadata": {
    "collapsed": true
   },
   "outputs": [],
   "source": [
    "from pyspark.sql.functions import *\n",
    "import datetime\n",
    "from pyspark.sql.types import StringType\n",
    "\n",
    "def change_date(date):\n",
    "    date = datetime.datetime.strptime(date, '%d/%m/%Y').strftime('%d/%m/%Y')\n",
    "    return date\n",
    "#'%Y-%m-%d'\n",
    "change_date= udf(change_date, StringType())\n",
    "df3=df.withColumn(\"C3\",change_date(df.C3))"
   ]
  },
  {
   "cell_type": "code",
   "execution_count": 6,
   "metadata": {
    "collapsed": false
   },
   "outputs": [
    {
     "name": "stdout",
     "output_type": "stream",
     "text": [
      "+------+-------+---+----------+\n",
      "|    C0|     C1| C2|        C3|\n",
      "+------+-------+---+----------+\n",
      "| selva|science| 81|15/04/1987|\n",
      "|harish|   math| 60|15/04/1988|\n",
      "|  arun|science| 85|15/04/1989|\n",
      "|   vis| social| 55|15/04/1990|\n",
      "|   vis|   math| 84|15/04/1990|\n",
      "|  raga|    geo| 45|15/04/1992|\n",
      "| selva|   math| 75|15/04/1987|\n",
      "| selva| social| 77|15/04/1987|\n",
      "|   vis|  hindi| 99|15/04/1990|\n",
      "|  raga|  hindi| 78|15/04/1992|\n",
      "+------+-------+---+----------+\n",
      "\n"
     ]
    }
   ],
   "source": [
    "df3.show()"
   ]
  },
  {
   "cell_type": "code",
   "execution_count": null,
   "metadata": {
    "collapsed": true
   },
   "outputs": [],
   "source": []
  },
  {
   "cell_type": "code",
   "execution_count": 7,
   "metadata": {
    "collapsed": true
   },
   "outputs": [],
   "source": [
    "df2 = sqlContext.read.format('com.databricks.spark.csv')\\\n",
    ".option('header', 'true').option('inferschema', 'true').load('/home/affine/Documents/Task3/task31.tsv')"
   ]
  },
  {
   "cell_type": "code",
   "execution_count": 8,
   "metadata": {
    "collapsed": false
   },
   "outputs": [
    {
     "name": "stdout",
     "output_type": "stream",
     "text": [
      "root\n",
      " |-- name: string (nullable = true)\n",
      " |-- sub: string (nullable = true)\n",
      " |-- score: string (nullable = true)\n",
      " |-- dob: string (nullable = true)\n",
      "\n"
     ]
    }
   ],
   "source": [
    "df2.printSchema()"
   ]
  },
  {
   "cell_type": "code",
   "execution_count": 9,
   "metadata": {
    "collapsed": false
   },
   "outputs": [
    {
     "name": "stdout",
     "output_type": "stream",
     "text": [
      "+----+---+-----+---+\n",
      "|name|sub|score|dob|\n",
      "+----+---+-----+---+\n",
      "+----+---+-----+---+\n",
      "\n"
     ]
    }
   ],
   "source": [
    "df2.show()"
   ]
  },
  {
   "cell_type": "code",
   "execution_count": 10,
   "metadata": {
    "collapsed": false
   },
   "outputs": [],
   "source": [
    "df4 = df2.join(df3)"
   ]
  },
  {
   "cell_type": "code",
   "execution_count": 11,
   "metadata": {
    "collapsed": false
   },
   "outputs": [
    {
     "data": {
      "text/plain": [
       "DataFrame[name: string, sub: string, score: string, dob: string, C0: string, C1: string, C2: int, C3: string]"
      ]
     },
     "execution_count": 11,
     "metadata": {},
     "output_type": "execute_result"
    }
   ],
   "source": [
    "df4"
   ]
  },
  {
   "cell_type": "code",
   "execution_count": 12,
   "metadata": {
    "collapsed": false
   },
   "outputs": [
    {
     "name": "stdout",
     "output_type": "stream",
     "text": [
      "+----+---+-----+---+---+---+---+---+\n",
      "|name|sub|score|dob| C0| C1| C2| C3|\n",
      "+----+---+-----+---+---+---+---+---+\n",
      "+----+---+-----+---+---+---+---+---+\n",
      "\n"
     ]
    }
   ],
   "source": [
    "df4.show()"
   ]
  },
  {
   "cell_type": "code",
   "execution_count": 13,
   "metadata": {
    "collapsed": true
   },
   "outputs": [],
   "source": [
    "df5 = df2.unionAll(df3)"
   ]
  },
  {
   "cell_type": "code",
   "execution_count": 14,
   "metadata": {
    "collapsed": false
   },
   "outputs": [
    {
     "data": {
      "text/plain": [
       "DataFrame[name: string, sub: string, score: string, dob: string]"
      ]
     },
     "execution_count": 14,
     "metadata": {},
     "output_type": "execute_result"
    }
   ],
   "source": [
    "df5"
   ]
  },
  {
   "cell_type": "code",
   "execution_count": 15,
   "metadata": {
    "collapsed": false
   },
   "outputs": [
    {
     "name": "stdout",
     "output_type": "stream",
     "text": [
      "+------+-------+-----+----------+\n",
      "|  name|    sub|score|       dob|\n",
      "+------+-------+-----+----------+\n",
      "| selva|science|   81|15/04/1987|\n",
      "|harish|   math|   60|15/04/1988|\n",
      "|  arun|science|   85|15/04/1989|\n",
      "|   vis| social|   55|15/04/1990|\n",
      "|   vis|   math|   84|15/04/1990|\n",
      "|  raga|    geo|   45|15/04/1992|\n",
      "| selva|   math|   75|15/04/1987|\n",
      "| selva| social|   77|15/04/1987|\n",
      "|   vis|  hindi|   99|15/04/1990|\n",
      "|  raga|  hindi|   78|15/04/1992|\n",
      "+------+-------+-----+----------+\n",
      "\n"
     ]
    }
   ],
   "source": [
    "df5.show()"
   ]
  },
  {
   "cell_type": "code",
   "execution_count": null,
   "metadata": {
    "collapsed": true
   },
   "outputs": [],
   "source": []
  }
 ],
 "metadata": {
  "kernelspec": {
   "display_name": "Python 3",
   "language": "python",
   "name": "python3"
  },
  "language_info": {
   "codemirror_mode": {
    "name": "ipython",
    "version": 3
   },
   "file_extension": ".py",
   "mimetype": "text/x-python",
   "name": "python",
   "nbconvert_exporter": "python",
   "pygments_lexer": "ipython3",
   "version": "3.5.1"
  }
 },
 "nbformat": 4,
 "nbformat_minor": 0
}
